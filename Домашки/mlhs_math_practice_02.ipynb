{
 "cells": [
  {
   "cell_type": "markdown",
   "metadata": {
    "id": "fkPR4N-wiEvE"
   },
   "source": [
    "В этом задании две части - теоретическая и практическая. Теорию можно набирать в латехе или просто решить на листочке, сфотографировать и отправить вместе с заполненным ноутбуком в anytask.\n",
    "\n",
    "Максимальный балл за задание - 10."
   ]
  },
  {
   "cell_type": "markdown",
   "metadata": {
    "id": "EMZ5My7kiPY_"
   },
   "source": [
    "# Часть 1 (теоретическая).\n",
    "\n",
    "## Задание 1 (**1.5 балла**).\n",
    "\n",
    "Пусть $f(X)=ln(detX), X\\in\\mathbb{R}^{n\\times n}$. Найдите производную $\\nabla_X f(X).$\n",
    "\n",
    "## Задание 2 (**2 балла**).\n",
    "\n",
    "Пусть $f(x)=x^Texp(xx^T)x, x\\in\\mathbb{R}^n,$ а $exp(B)$ - матричная экспонента, $B\\in\\mathbb{R}^{n\\times n}.$ Матричной экспонентой обозначают ряд\n",
    "\n",
    "$I_n+\\frac{B}{1!}+\\frac{B^2}{2!}+\\dots=\\sum\\limits_{k=0}^{\\infty}\\frac{B^k}{k!}.$\n",
    "\n",
    "Найдите производную $\\nabla_x f(x).$\n",
    "\n",
    "## Задание 3 (**1.5 балла**).\n",
    "\n",
    "В случае одномерной Ridge-регрессии минимизируется функция со штрафом:\n",
    "$Q(w) = (y-xw)^T(y-xw)+\\lambda w^2,$\n",
    "где $\\lambda$ - положительный параметр, штрафующий функцию за слишком большие значения $w$.\n",
    "\n",
    "1)  (**0.5 балла**) Найдите производную $\\nabla_w Q(w)$, выведите формулу для оптимального $w$.\n",
    "\n",
    "2) (**0.5 балла**) Найдите вторую производную $\\nabla^2_w Q(w)$. Убедитесь, что мы оказались в точке минимума.\n",
    "\n",
    "3) (**0.5 балла**) Выпишите шаг градиентного спуска в матричном виде."
   ]
  },
  {
   "cell_type": "markdown",
   "metadata": {
    "id": "lm6_Ln0GoliG"
   },
   "source": [
    "## Часть 2 (практическая).\n",
    "\n",
    "## Задание 4 (**1 балл**).\n",
    "Напишите функцию, вычисляющую значение весов в линейной регрессии по точной (аналитически найденной) формуле."
   ]
  },
  {
   "cell_type": "code",
   "execution_count": 3,
   "metadata": {
    "id": "ZrVvpU9miOga"
   },
   "outputs": [],
   "source": [
    "import numpy as np\n",
    "\n",
    "def ols_solution(X, y):\n",
    "    X = np.hstack((np.ones((X.shape[0], 1)), X))\n",
    "    return np.linalg.inv(X.T.dot(X)).dot(X.T).dot(y)"
   ]
  },
  {
   "cell_type": "markdown",
   "metadata": {
    "id": "_shCsTQ1pVcU"
   },
   "source": [
    "## Задание 5 (**1 балл**).\n",
    "Модифицируйте метод градиентного спуска с семинара так, чтобы это теперь был метод стохастического градиентного спуска."
   ]
  },
  {
   "cell_type": "code",
   "execution_count": 4,
   "metadata": {
    "id": "fTZWxz1zpb9R"
   },
   "outputs": [],
   "source": [
    "def compute_cost(X, y, theta, length):\n",
    "    cost = (1./length) * (np.linalg.norm(X @ theta - y) ** 2)\n",
    "    return cost\n",
    "\n",
    "def stochastic_gradient_descent(X, y, learning_rate, iterations):\n",
    "    X = np.hstack((np.ones((X.shape[0], 1)), X))\n",
    "    params = np.random.rand(X.shape[1])\n",
    "\n",
    "    m = X.shape[0]\n",
    "\n",
    "    cost_track = np.zeros((iterations,1))\n",
    "\n",
    "    for i in range(iterations):\n",
    "        idx = np.random.randint(m - 1)\n",
    "        params = params - 2./1 * learning_rate * (X[idx] * ((X[idx] @ params) - y[idx]))\n",
    "        cost_track[i] = compute_cost(X[idx], y[idx], params, 1)\n",
    "\n",
    "    return cost_track, params"
   ]
  },
  {
   "cell_type": "markdown",
   "metadata": {
    "id": "WnRlUa9Npi9o"
   },
   "source": [
    "## Задание 6 (**3 балла**).\n",
    "* **(0 баллов)**. Скопируйте метод градиентного спуска из семинара в этот ноутбук.\n",
    "\n",
    "* **(0.5 балла)**. Обучите линейную регрессию тремя методами (по точной формуле, с помощью GD и с помощью SGD) на данных для задачи регрессии (см. код). Для GD и SGD используйте learning_rate = 0.01, iterations=10000.\n",
    "\n",
    "* **(0.5 балла)**. С помощью каждого метода сделайте предсказание (на всех данных), вычислите качество предсказания r2 (from sklearn.metrics import r2_score). Для получения предсказания можете использовать функцию predict с семинара.\n",
    "\n",
    "\n",
    "Ответьте на следующие вопросы (каждый вопрос - **0.5 балла**): \n",
    "\n",
    "1) все ли методы справились с нахождением минимума? если нет, то почему какой-то из методов не справился?\n",
    "\n",
    "2) сравните время работы методов (используйте библиотеку time): замеряйте время работы соответствующей написанной вами функции.\n",
    "\n",
    "3) для методов GD и SGD нарисуйте графики (для каждого свой) зависимости ошибки (loss) от номера итерации. \n",
    "\n",
    "4) какой метод успешнее всего справился с задачей? (т.е. r2 наибольший)."
   ]
  },
  {
   "cell_type": "code",
   "execution_count": 29,
   "metadata": {
    "id": "LBu41KSpqbbI"
   },
   "outputs": [],
   "source": [
    "from sklearn.datasets import make_regression\n",
    "import pandas as pd\n",
    "import numpy as np\n",
    "\n",
    "X, y, _ = make_regression(n_samples=100000,#number of samples\n",
    "                          n_features=10,#number of features\n",
    "                          n_informative=8,#number of useful features \n",
    "                          noise=100,#bias and standard deviation of the guassian noise\n",
    "                          coef=True,#true coefficient used to generated the data\n",
    "                          random_state=123) \n",
    "\n",
    "X = pd.DataFrame(data=X, columns=np.arange(0, X.shape[1]))\n",
    "X[10] = X[6] + X[7] + np.random.random()*0.01"
   ]
  },
  {
   "cell_type": "code",
   "execution_count": 30,
   "metadata": {},
   "outputs": [],
   "source": [
    "np.set_printoptions(suppress=True)\n",
    "np.random.seed(seed=42)"
   ]
  },
  {
   "cell_type": "markdown",
   "metadata": {},
   "source": [
    "#### Метод градиентного спуска из семинара."
   ]
  },
  {
   "cell_type": "code",
   "execution_count": 31,
   "metadata": {},
   "outputs": [],
   "source": [
    "def gradient_descent(X, y, learning_rate, iterations):\n",
    "    X = np.hstack((np.ones((X.shape[0], 1)), X))\n",
    "    params = np.random.rand(X.shape[1])\n",
    "\n",
    "    m = X.shape[0]\n",
    "    length = len(y)\n",
    "\n",
    "    cost_track = np.zeros((iterations,1))\n",
    "\n",
    "    for i in range(iterations):\n",
    "        params = params - 2./m * learning_rate * (X.T @ ((X @ params) - y))\n",
    "        cost_track[i] = compute_cost(X, y, params, length)\n",
    "\n",
    "    return cost_track, params\n",
    "\n",
    "def predict(X, params):\n",
    "    X = np.hstack((np.ones((X.shape[0], 1)), X))\n",
    "    return X @ params"
   ]
  },
  {
   "cell_type": "markdown",
   "metadata": {},
   "source": [
    "#### Аналитическое решение."
   ]
  },
  {
   "cell_type": "code",
   "execution_count": 32,
   "metadata": {},
   "outputs": [
    {
     "name": "stdout",
     "output_type": "stream",
     "text": [
      "CPU times: user 112 ms, sys: 131 ms, total: 243 ms\n",
      "Wall time: 38.2 ms\n"
     ]
    }
   ],
   "source": [
    "%%time\n",
    "analytic_weights = ols_solution(X, y)\n",
    "analytic_predict = predict(X, analytic_weights)"
   ]
  },
  {
   "cell_type": "markdown",
   "metadata": {},
   "source": [
    "#### Решение методом GD"
   ]
  },
  {
   "cell_type": "code",
   "execution_count": 33,
   "metadata": {},
   "outputs": [
    {
     "name": "stdout",
     "output_type": "stream",
     "text": [
      "CPU times: user 2min 24s, sys: 2min 32s, total: 4min 56s\n",
      "Wall time: 26.7 s\n"
     ]
    }
   ],
   "source": [
    "%%time\n",
    "gd_track, gd_weights = gradient_descent(X, y, 0.01, 10000)\n",
    "gd_predict = predict(X, gd_weights)"
   ]
  },
  {
   "cell_type": "markdown",
   "metadata": {},
   "source": [
    "#### Решение методом SGD"
   ]
  },
  {
   "cell_type": "code",
   "execution_count": 34,
   "metadata": {},
   "outputs": [
    {
     "name": "stdout",
     "output_type": "stream",
     "text": [
      "CPU times: user 557 ms, sys: 913 ms, total: 1.47 s\n",
      "Wall time: 301 ms\n"
     ]
    }
   ],
   "source": [
    "%%time\n",
    "sgd_track, sgd_weights = stochastic_gradient_descent(X, y, 0.01, 10000)\n",
    "sgd_predict = predict(X, sgd_weights)"
   ]
  },
  {
   "cell_type": "markdown",
   "metadata": {},
   "source": [
    "#### Вычислим качество предсказания:"
   ]
  },
  {
   "cell_type": "code",
   "execution_count": 35,
   "metadata": {},
   "outputs": [
    {
     "data": {
      "text/plain": [
       "0.7528937122904231"
      ]
     },
     "execution_count": 35,
     "metadata": {},
     "output_type": "execute_result"
    }
   ],
   "source": [
    "from sklearn.metrics import r2_score\n",
    "r2_score(y, analytic_predict)"
   ]
  },
  {
   "cell_type": "code",
   "execution_count": 36,
   "metadata": {},
   "outputs": [
    {
     "data": {
      "text/plain": [
       "0.7554626185750482"
      ]
     },
     "execution_count": 36,
     "metadata": {},
     "output_type": "execute_result"
    }
   ],
   "source": [
    "r2_score(y, gd_predict)"
   ]
  },
  {
   "cell_type": "code",
   "execution_count": 37,
   "metadata": {},
   "outputs": [
    {
     "data": {
      "text/plain": [
       "0.7395349424704922"
      ]
     },
     "execution_count": 37,
     "metadata": {},
     "output_type": "execute_result"
    }
   ],
   "source": [
    "r2_score(y, sgd_predict)"
   ]
  },
  {
   "cell_type": "markdown",
   "metadata": {},
   "source": [
    "#### Ответы на вопросы:"
   ]
  },
  {
   "cell_type": "markdown",
   "metadata": {},
   "source": [
    "1. Аналитический метод справился и GD. SGD - не всегда получается найти минимум т.к. в каждой итерации берём признаки одного объекта."
   ]
  },
  {
   "cell_type": "markdown",
   "metadata": {},
   "source": [
    "2. Время выполнения от меньшего к большему: SGD, аналитическое решение, GD"
   ]
  },
  {
   "cell_type": "markdown",
   "metadata": {},
   "source": [
    "4. У аналитического решения и GD показатель ~ 0.75. SGD - качество не стабильное т.к. в каждой итерации берём признаки одного объекта.Если модифицируем SGD и будем брать batch, то качество улучшится и не будет зависеть от того, удачные или неудачные даныне нам попались. Либо для SGD нужно кратно увеличить число итераций."
   ]
  },
  {
   "cell_type": "markdown",
   "metadata": {},
   "source": [
    "3.Для методов GD и SGD нарисуем графики зависимости ошибки (loss) от номера итерации."
   ]
  },
  {
   "cell_type": "code",
   "execution_count": 38,
   "metadata": {},
   "outputs": [],
   "source": [
    "import matplotlib.pyplot as plt"
   ]
  },
  {
   "cell_type": "code",
   "execution_count": 44,
   "metadata": {},
   "outputs": [
    {
     "data": {
      "text/plain": [
       "Text(0.5, 1.0, 'Графики зависимости ошибки (loss) от номера итерации для метода GD')"
      ]
     },
     "execution_count": 44,
     "metadata": {},
     "output_type": "execute_result"
    },
    {
     "data": {
      "image/png": "[encoded data removed]",
      "text/plain": [
       "<Figure size 640x480 with 1 Axes>"
      ]
     },
     "metadata": {},
     "output_type": "display_data"
    }
   ],
   "source": [
    "plt.plot(gd_track)\n",
    "plt.title('Графики зависимости ошибки (loss) от номера итерации для метода GD')"
   ]
  },
  {
   "cell_type": "code",
   "execution_count": 45,
   "metadata": {},
   "outputs": [
    {
     "data": {
      "text/plain": [
       "Text(0.5, 1.0, 'Графики зависимости ошибки (loss) от номера итерации для метода SGD')"
      ]
     },
     "execution_count": 45,
     "metadata": {},
     "output_type": "execute_result"
    },
    {
     "data": {
      "image/png": "[encoded data removed]",
      "text/plain": [
       "<Figure size 640x480 with 1 Axes>"
      ]
     },
     "metadata": {},
     "output_type": "display_data"
    }
   ],
   "source": [
    "plt.plot(sgd_track)\n",
    "plt.title('Графики зависимости ошибки (loss) от номера итерации для метода SGD')"
   ]
  },
  {
   "cell_type": "markdown",
   "metadata": {},
   "source": [
    "## Задание 7 (**2 балла**).\n",
    "* **(1 балл)**. Добавьте в функцию из задания 5 L2-регуляризацию и, соответственно, новый аргумент - коэффициент при регуляризаторе.\n",
    "\n",
    "* **(1 балл)**. На сгенерированных выше данных обучите модифицированный алгоритм SGD с регуляризацией: в цикле перебирайте значения коэффициента регуляризации от 0.1 до 1 с шагом 0.1. Для каждого значения обучите модель и сделайте предсказание, выведите значение r2. Для какого значения коэффициента регуляризации получилось наилучшее качество r2, почему?"
   ]
  }
 ],
 "metadata": {
  "colab": {
   "collapsed_sections": [],
   "provenance": []
  },
  "kernelspec": {
   "display_name": "Python 3 (ipykernel)",
   "language": "python",
   "name": "python3"
  },
  "language_info": {
   "codemirror_mode": {
    "name": "ipython",
    "version": 3
   },
   "file_extension": ".py",
   "mimetype": "text/x-python",
   "name": "python",
   "nbconvert_exporter": "python",
   "pygments_lexer": "ipython3",
   "version": "3.8.10"
  }
 },
 "nbformat": 4,
 "nbformat_minor": 4
}
