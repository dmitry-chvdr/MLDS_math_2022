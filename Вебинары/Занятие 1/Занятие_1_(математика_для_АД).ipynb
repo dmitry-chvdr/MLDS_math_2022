{
  "nbformat": 4,
  "nbformat_minor": 0,
  "metadata": {
    "colab": {
      "provenance": [],
      "collapsed_sections": []
    },
    "kernelspec": {
      "name": "python3",
      "display_name": "Python 3"
    },
    "language_info": {
      "name": "python"
    }
  },
  "cells": [
    {
      "cell_type": "markdown",
      "source": [
        "# Математика для анализа данных. <br />Урок 1. Производная. Градиентный спуск для функции одной переменной"
      ],
      "metadata": {
        "id": "3bvbRN_ubd0X"
      }
    },
    {
      "cell_type": "markdown",
      "source": [
        "## План занятия"
      ],
      "metadata": {
        "id": "Rw8YIPF2cMQL"
      }
    },
    {
      "cell_type": "markdown",
      "source": [
        "1) Рассказ о том, как будет устроен курс\n",
        "\n",
        "2)\t[Тест](https://docs.google.com/forms/d/e/1FAIpQLScCKvhixIoSJVtvcmraJJJ05o-RtdCt8k2FBoUujOL7y1QL-w/viewform?usp=sf_link) по темам из подготовки (на 10 минут)\n",
        "\n",
        "3)\tИсследуем функцию: находим локальные экстремумы, точки перегиба\n",
        "\n",
        "4)\tРисуем эту функцию в python\n",
        "\n",
        "5)\tГрадиентный спуск в одномерном случае: теория на доске\n",
        "\n",
        "6)\tПишем градиентный спуск в python\n",
        "\n",
        "7)\tДомашка"
      ],
      "metadata": {
        "id": "jZtoIY3ioAXh"
      }
    },
    {
      "cell_type": "markdown",
      "source": [
        "## Задание 1 (на доске)\n",
        "\n",
        "Исследовать функцию $f(x)=x^3 - 3x^2 + 4$:\n",
        "- найти локальные экстремумы и определить их тип\n",
        "- найти точки перегиба "
      ],
      "metadata": {
        "id": "KonntadLoQoG"
      }
    },
    {
      "cell_type": "markdown",
      "source": [
        "## Задание 2 \n",
        "\n",
        "Проверить себя в python."
      ],
      "metadata": {
        "id": "RrEOu7JCotVb"
      }
    },
    {
      "cell_type": "markdown",
      "source": [
        "В python есть удобная библиотека для символьных вычислений - SymPy. Будем пользоваться ей для вычисления производных сегодня.\n",
        "\n",
        "[Тут](https://towardsdatascience.com/taking-derivatives-in-python-d6229ba72c64) можно почитать подробнее про сегодняшнюю тему в SymPy.\n",
        "\n",
        "Установим SymPy и посмотрим, как вычислять производные с её помощью."
      ],
      "metadata": {
        "id": "z6xuXw_sPI_9"
      }
    },
    {
      "cell_type": "code",
      "source": [
        "!pip install sympy"
      ],
      "metadata": {
        "colab": {
          "base_uri": "https://localhost:8080/"
        },
        "id": "frNjrZlsoCyM",
        "outputId": "517566d0-8439-4bcb-e853-8678f9ff0bf6"
      },
      "execution_count": null,
      "outputs": [
        {
          "output_type": "stream",
          "name": "stdout",
          "text": [
            "Looking in indexes: https://pypi.org/simple, https://us-python.pkg.dev/colab-wheels/public/simple/\n",
            "Requirement already satisfied: sympy in /usr/local/lib/python3.7/dist-packages (1.7.1)\n",
            "Requirement already satisfied: mpmath>=0.19 in /usr/local/lib/python3.7/dist-packages (from sympy) (1.2.1)\n"
          ]
        }
      ]
    },
    {
      "cell_type": "code",
      "source": [
        "import sympy as sp"
      ],
      "metadata": {
        "id": "0mYCZF2cpf3x"
      },
      "execution_count": null,
      "outputs": []
    },
    {
      "cell_type": "code",
      "source": [
        "x = sp.Symbol('x')"
      ],
      "metadata": {
        "id": "Lf_GrAq2pmFS"
      },
      "execution_count": null,
      "outputs": []
    },
    {
      "cell_type": "code",
      "source": [
        "sp.diff(x**6)"
      ],
      "metadata": {
        "id": "q0uUmVHfpzrN",
        "colab": {
          "base_uri": "https://localhost:8080/",
          "height": 39
        },
        "outputId": "5d16ef23-e594-4f74-8e9e-5c1a60719cf2"
      },
      "execution_count": null,
      "outputs": [
        {
          "output_type": "execute_result",
          "data": {
            "text/plain": [
              "6*x**5"
            ],
            "text/latex": "$\\displaystyle 6 x^{5}$"
          },
          "metadata": {},
          "execution_count": 4
        }
      ]
    },
    {
      "cell_type": "markdown",
      "source": [
        "Теперь вычислим производную функции из условия задания.\n",
        "\n",
        "Для этого напишем функцию, задающую зависимость $f(x)$."
      ],
      "metadata": {
        "id": "KLRbL6OoPfix"
      }
    },
    {
      "cell_type": "code",
      "source": [
        "def f(x):\n",
        "  return x**3 - 3*x**2 + 4"
      ],
      "metadata": {
        "id": "_ILc69loOk_F"
      },
      "execution_count": null,
      "outputs": []
    },
    {
      "cell_type": "code",
      "source": [
        "# def func_name(a, b, c,...):\n",
        "#    ...\n",
        "\n",
        "#    return result"
      ],
      "metadata": {
        "id": "4vOmk4rz8wB6"
      },
      "execution_count": null,
      "outputs": []
    },
    {
      "cell_type": "code",
      "source": [
        "f(0)"
      ],
      "metadata": {
        "colab": {
          "base_uri": "https://localhost:8080/"
        },
        "id": "XhW-fECfRzDZ",
        "outputId": "05ec3f31-9560-48bb-c5e6-aa3f6a45523d"
      },
      "execution_count": null,
      "outputs": [
        {
          "output_type": "execute_result",
          "data": {
            "text/plain": [
              "4"
            ]
          },
          "metadata": {},
          "execution_count": 7
        }
      ]
    },
    {
      "cell_type": "markdown",
      "source": [
        "Чтобы найти нули функции, надо решить уравнение $f(x)=0$. В SymPy для этого есть функция solve."
      ],
      "metadata": {
        "id": "bq9orXNDQEgR"
      }
    },
    {
      "cell_type": "code",
      "source": [
        "sp.solve(f(x))   # f(x) = 0 относительно x"
      ],
      "metadata": {
        "colab": {
          "base_uri": "https://localhost:8080/"
        },
        "id": "SiQqnglzQPWe",
        "outputId": "37f5ac5a-d236-4b3a-b53a-c1ff8536cbc8"
      },
      "execution_count": null,
      "outputs": [
        {
          "output_type": "execute_result",
          "data": {
            "text/plain": [
              "[-1, 2]"
            ]
          },
          "metadata": {},
          "execution_count": 10
        }
      ]
    },
    {
      "cell_type": "markdown",
      "source": [
        "Теперь найдем производную функции $f(x)$ и затем её нули, чтобы найти экстремумы."
      ],
      "metadata": {
        "id": "UmL7nZc6QLK5"
      }
    },
    {
      "cell_type": "code",
      "source": [
        "df_x = sp.diff(f(x))\n",
        "df_x"
      ],
      "metadata": {
        "colab": {
          "base_uri": "https://localhost:8080/",
          "height": 39
        },
        "id": "XMEBV1IePqDC",
        "outputId": "cda7306c-6fd3-421c-f9cc-e147e710935c"
      },
      "execution_count": null,
      "outputs": [
        {
          "output_type": "execute_result",
          "data": {
            "text/plain": [
              "3*x**2 - 6*x"
            ],
            "text/latex": "$\\displaystyle 3 x^{2} - 6 x$"
          },
          "metadata": {},
          "execution_count": 9
        }
      ]
    },
    {
      "cell_type": "code",
      "source": [
        "type(df_x)"
      ],
      "metadata": {
        "colab": {
          "base_uri": "https://localhost:8080/"
        },
        "id": "3d7J05mM-jW0",
        "outputId": "d9ea047d-6df3-4b51-c847-4edf8f81536f"
      },
      "execution_count": null,
      "outputs": [
        {
          "output_type": "execute_result",
          "data": {
            "text/plain": [
              "sympy.core.add.Add"
            ]
          },
          "metadata": {},
          "execution_count": 12
        }
      ]
    },
    {
      "cell_type": "markdown",
      "source": [
        "Если мы хотим вычислить значение функции с помощью SymPy, то делаем так:"
      ],
      "metadata": {
        "id": "4xdQAgiZdz5c"
      }
    },
    {
      "cell_type": "code",
      "source": [
        "df_x.subs(x, 10)"
      ],
      "metadata": {
        "colab": {
          "base_uri": "https://localhost:8080/",
          "height": 37
        },
        "id": "gj2NqwvPd5-o",
        "outputId": "1de06568-17a8-4861-b89b-c78033d40d85"
      },
      "execution_count": null,
      "outputs": [
        {
          "output_type": "execute_result",
          "data": {
            "text/plain": [
              "240"
            ],
            "text/latex": "$\\displaystyle 240$"
          },
          "metadata": {},
          "execution_count": 11
        }
      ]
    },
    {
      "cell_type": "code",
      "source": [
        "df_x(0)"
      ],
      "metadata": {
        "id": "_RBnUhWu-8tN"
      },
      "execution_count": null,
      "outputs": []
    },
    {
      "cell_type": "code",
      "source": [
        "sp.solve(df_x, x)"
      ],
      "metadata": {
        "colab": {
          "base_uri": "https://localhost:8080/"
        },
        "id": "3fszfZz2O8kg",
        "outputId": "11da72bd-6fd8-4638-fc8e-596f654298d9"
      },
      "execution_count": null,
      "outputs": [
        {
          "output_type": "execute_result",
          "data": {
            "text/plain": [
              "[0, 2]"
            ]
          },
          "metadata": {},
          "execution_count": 38
        }
      ]
    },
    {
      "cell_type": "code",
      "source": [
        "f(0), f(2)"
      ],
      "metadata": {
        "colab": {
          "base_uri": "https://localhost:8080/"
        },
        "id": "1lnnsUANb7eY",
        "outputId": "488d97a5-0cd6-4d91-8e6b-30a1d552a12d"
      },
      "execution_count": null,
      "outputs": [
        {
          "output_type": "execute_result",
          "data": {
            "text/plain": [
              "(4, 0)"
            ]
          },
          "metadata": {},
          "execution_count": 39
        }
      ]
    },
    {
      "cell_type": "markdown",
      "source": [
        "Найдем нули второй производной для определения точек перегиба функции."
      ],
      "metadata": {
        "id": "X2Nr1pphQix7"
      }
    },
    {
      "cell_type": "code",
      "source": [
        "d2f_x = sp.diff(df_x)\n",
        "d2f_x"
      ],
      "metadata": {
        "colab": {
          "base_uri": "https://localhost:8080/",
          "height": 39
        },
        "id": "fnZJRDB8P0NJ",
        "outputId": "e127aaa7-1015-4776-a2af-5acb212666c6"
      },
      "execution_count": null,
      "outputs": [
        {
          "output_type": "execute_result",
          "data": {
            "text/plain": [
              "6*x - 6"
            ],
            "text/latex": "$\\displaystyle 6 x - 6$"
          },
          "metadata": {},
          "execution_count": 13
        }
      ]
    },
    {
      "cell_type": "code",
      "source": [
        "sp.solve(d2f_x, x)"
      ],
      "metadata": {
        "colab": {
          "base_uri": "https://localhost:8080/"
        },
        "id": "o3tJrqO-QqeY",
        "outputId": "a65038f4-8b2c-400d-88f5-b4471eb58cc5"
      },
      "execution_count": null,
      "outputs": [
        {
          "output_type": "execute_result",
          "data": {
            "text/plain": [
              "[1]"
            ]
          },
          "metadata": {},
          "execution_count": 14
        }
      ]
    },
    {
      "cell_type": "code",
      "source": [
        "f(1)"
      ],
      "metadata": {
        "colab": {
          "base_uri": "https://localhost:8080/"
        },
        "id": "vSulZ7vdcGTF",
        "outputId": "6057401b-da5e-4d2d-a024-54aef651ecb0"
      },
      "execution_count": null,
      "outputs": [
        {
          "output_type": "execute_result",
          "data": {
            "text/plain": [
              "2"
            ]
          },
          "metadata": {},
          "execution_count": 15
        }
      ]
    },
    {
      "cell_type": "markdown",
      "source": [
        "## Задание 3.\n",
        "\n",
        "- Нарисовать график функции $f(x)$, подписать оси\n",
        "- Напечатать под графиком при помощи *Markdown* экстремумы, точки перегиба и значения функции $f(x)$ в этих точках"
      ],
      "metadata": {
        "id": "7DfIb1aLQ2R-"
      }
    },
    {
      "cell_type": "code",
      "source": [
        "import matplotlib.pyplot as plt\n",
        "%matplotlib inline "
      ],
      "metadata": {
        "id": "QGgfC4VKgHxq"
      },
      "execution_count": null,
      "outputs": []
    },
    {
      "cell_type": "markdown",
      "source": [
        "Нарисуем график функции f(x)"
      ],
      "metadata": {
        "id": "AzTBw3f8aN1O"
      }
    },
    {
      "cell_type": "code",
      "source": [
        "import numpy as np\n",
        "\n",
        "x_values = [x for x in np.arange(-5, 5, 0.1)] # -5, -4.9, -4.8,..., 4.9\n",
        "# x_values = np.linspace(-5, 5, 100)\n",
        "\n",
        "f_values = [f(x) for x in x_values] # список значений функции\n",
        "\n",
        "plt.plot(x_values, f_values)"
      ],
      "metadata": {
        "colab": {
          "base_uri": "https://localhost:8080/",
          "height": 283
        },
        "id": "sj4ipcBeaPuC",
        "outputId": "09f84ba1-7605-47e2-e3bb-585830098187"
      },
      "execution_count": null,
      "outputs": [
        {
          "output_type": "execute_result",
          "data": {
            "text/plain": [
              "[<matplotlib.lines.Line2D at 0x7f1a57779c50>]"
            ]
          },
          "metadata": {},
          "execution_count": 17
        },
        {
          "output_type": "display_data",
          "data": {
            "text/plain": [
              "<Figure size 432x288 with 1 Axes>"
            ],
            "image/png": "[encoded data removed]"
          },
          "metadata": {
            "needs_background": "light"
          }
        }
      ]
    },
    {
      "cell_type": "markdown",
      "source": [
        "Определим граничные значения по осям, чтобы сделать картинку понятнее.\n",
        "\n",
        "Также изменим размер картинки."
      ],
      "metadata": {
        "id": "f6L7XRWpaTXy"
      }
    },
    {
      "cell_type": "code",
      "source": [
        "x_values = [x for x in np.arange(-5, 5, 0.1)]\n",
        "f_values = [f(x) for x in x_values] \n",
        "\n",
        "plt.figure(figsize=(10,10))\n",
        "\n",
        "plt.plot(x_values, f_values)\n",
        "\n",
        "plt.xlim([-3, 5])\n",
        "plt.ylim([-5, 7])"
      ],
      "metadata": {
        "colab": {
          "base_uri": "https://localhost:8080/",
          "height": 610
        },
        "id": "aElIEe44aaZ6",
        "outputId": "a90a0e82-fb90-4403-ee17-25cda9dd13a6"
      },
      "execution_count": null,
      "outputs": [
        {
          "output_type": "execute_result",
          "data": {
            "text/plain": [
              "(-5.0, 7.0)"
            ]
          },
          "metadata": {},
          "execution_count": 18
        },
        {
          "output_type": "display_data",
          "data": {
            "text/plain": [
              "<Figure size 720x720 with 1 Axes>"
            ],
            "image/png": "[encoded data removed]"
          },
          "metadata": {
            "needs_background": "light"
          }
        }
      ]
    },
    {
      "cell_type": "markdown",
      "source": [
        "Добавим названия осей и подпись к графику."
      ],
      "metadata": {
        "id": "8aRO8Cg8agq0"
      }
    },
    {
      "cell_type": "code",
      "source": [
        "x_values = [x for x in np.arange(-5, 5, 0.1)]\n",
        "f_values = [f(x) for x in x_values] \n",
        "\n",
        "plt.figure(figsize=(10,10))\n",
        "\n",
        "plt.plot(x_values, f_values)\n",
        "\n",
        "plt.xlim([-3, 5])\n",
        "plt.ylim([-5, 7])\n",
        "\n",
        "plt.title('График функции f(x) c экстремумами и точками перегиба')\n",
        "\n",
        "plt.xlabel('x')\n",
        "plt.ylabel('f(x)')"
      ],
      "metadata": {
        "colab": {
          "base_uri": "https://localhost:8080/",
          "height": 640
        },
        "id": "xAuNiFAgakGR",
        "outputId": "9a2a4a96-9f72-4ae7-84a3-46eac87b7f57"
      },
      "execution_count": null,
      "outputs": [
        {
          "output_type": "execute_result",
          "data": {
            "text/plain": [
              "Text(0, 0.5, 'f(x)')"
            ]
          },
          "metadata": {},
          "execution_count": 19
        },
        {
          "output_type": "display_data",
          "data": {
            "text/plain": [
              "<Figure size 720x720 with 1 Axes>"
            ],
            "image/png": "[encoded data removed]"
          },
          "metadata": {
            "needs_background": "light"
          }
        }
      ]
    },
    {
      "cell_type": "markdown",
      "source": [
        "Добавим оси и подпишем под картинкой информацию об экстремумах и точках перегиба."
      ],
      "metadata": {
        "id": "r1p7QRi0bAfQ"
      }
    },
    {
      "cell_type": "code",
      "source": [
        "import numpy as np\n",
        "\n",
        "x_values = np.arange(-5, 5, 0.1)\n",
        "f_values = [f(x) for x in x_values] \n",
        "\n",
        "plt.figure(figsize=(10,10))\n",
        "\n",
        "plt.axvline(x=0, c = 'black')\n",
        "plt.axhline(y=0, c = 'black')\n",
        "\n",
        "plt.plot(x_values, f_values)\n",
        "\n",
        "plt.xlim([-3, 5])\n",
        "plt.ylim([-5, 7])\n",
        "\n",
        "plt.title('График функции f(x) c экстремумами и точками перегиба')\n",
        "\n",
        "plt.xlabel('x')\n",
        "plt.ylabel('f(x)')\n",
        "\n",
        "plt.show()"
      ],
      "metadata": {
        "colab": {
          "base_uri": "https://localhost:8080/",
          "height": 622
        },
        "id": "MchNoMjbRG38",
        "outputId": "7cfcbc0f-df63-4f9b-eb8c-132d118437a7"
      },
      "execution_count": null,
      "outputs": [
        {
          "output_type": "display_data",
          "data": {
            "text/plain": [
              "<Figure size 720x720 with 1 Axes>"
            ],
            "image/png": "[encoded data removed]"
          },
          "metadata": {
            "needs_background": "light"
          }
        }
      ]
    },
    {
      "cell_type": "markdown",
      "source": [
        "Экстремумы:\n",
        "*    (0, 4) - точка максимума\n",
        "*    (2, 0) - точка минимума\n",
        "\n",
        "Точки перегиба:\n",
        "*    (1, 2) - точка перегиба\n"
      ],
      "metadata": {
        "id": "t0Dmhfreb1gQ"
      }
    },
    {
      "cell_type": "markdown",
      "source": [
        "## Градиентный спуск. Теория.\n",
        "\n",
        "$x_{new} = x - \\lambda\\cdot f'(x)$"
      ],
      "metadata": {
        "id": "FZca6M-TWYKY"
      }
    },
    {
      "cell_type": "markdown",
      "source": [
        "## Задание 4\n",
        "\n",
        "Написать градиентный спуск в python"
      ],
      "metadata": {
        "id": "S7PJ309HZ1UZ"
      }
    },
    {
      "cell_type": "code",
      "source": [
        "def gradient_descent(x_start, learning_rate, epsilon, num_iterations):\n",
        "    x_curr = x_start\n",
        "    df_x = sp.diff(f(x)) # производная\n",
        "\n",
        "    trace = []\n",
        "    trace.append(x_curr)\n",
        "\n",
        "    for i in range(num_iterations):\n",
        "      x_new = x_curr - learning_rate * df_x.subs(x, x_curr) \n",
        "      trace.append(x_new)\n",
        "\n",
        "      if abs(x_new - x_curr) < epsilon:\n",
        "        return x_curr, trace\n",
        "\n",
        "      x_curr = x_new\n",
        "\n",
        "    return x_curr, trace"
      ],
      "metadata": {
        "id": "FWcnmpsIVBqH"
      },
      "execution_count": null,
      "outputs": []
    },
    {
      "cell_type": "code",
      "source": [
        "xmin, trace = gradient_descent(3, 0.01, 0.001, 10)\n",
        "\n",
        "x_values = [x for x in np.arange(-5, 5, 0.1)]\n",
        "f_values = [f(x) for x in x_values] \n",
        "\n",
        "plt.figure(figsize=(10,10))\n",
        "\n",
        "plt.axvline(x=0, c = 'black')\n",
        "plt.axhline(y=0, c = 'black')\n",
        "\n",
        "plt.plot(x_values, f_values)\n",
        "\n",
        "plt.xlim([-3, 5])\n",
        "plt.ylim([-5, 7])\n",
        "\n",
        "plt.title('График функции f(x) c экстремумами и точками перегиба')\n",
        "\n",
        "plt.xlabel('x')\n",
        "plt.ylabel('f(x)')\n",
        "\n",
        "trace_values = [f(x) for x in trace] \n",
        "plt.scatter(trace, trace_values, c='red')\n",
        "\n",
        "plt.show()"
      ],
      "metadata": {
        "colab": {
          "base_uri": "https://localhost:8080/",
          "height": 622
        },
        "id": "VYy8uYMlDx-a",
        "outputId": "7220729b-a622-41c4-da47-cbd4dcff039f"
      },
      "execution_count": null,
      "outputs": [
        {
          "output_type": "display_data",
          "data": {
            "text/plain": [
              "<Figure size 720x720 with 1 Axes>"
            ],
            "image/png": "[encoded data removed]"
          },
          "metadata": {
            "needs_background": "light"
          }
        }
      ]
    },
    {
      "cell_type": "code",
      "source": [],
      "metadata": {
        "id": "WmyyJwgTFSxI"
      },
      "execution_count": null,
      "outputs": []
    }
  ]
}