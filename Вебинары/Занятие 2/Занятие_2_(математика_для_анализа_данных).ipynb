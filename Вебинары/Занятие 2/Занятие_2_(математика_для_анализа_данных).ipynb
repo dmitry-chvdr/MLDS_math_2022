{
  "nbformat": 4,
  "nbformat_minor": 0,
  "metadata": {
    "colab": {
      "provenance": [],
      "collapsed_sections": []
    },
    "kernelspec": {
      "name": "python3",
      "display_name": "Python 3"
    },
    "language_info": {
      "name": "python"
    }
  },
  "cells": [
    {
      "cell_type": "markdown",
      "source": [
        "# Математика для анализа данных.\n",
        "## Урок 2. Векторное дифференцирование. Линейная регрессия."
      ],
      "metadata": {
        "id": "UxKHEXFaylYH"
      }
    },
    {
      "cell_type": "markdown",
      "source": [
        "### План занятия\n",
        "\n",
        "1. Линейная регрессия: скалярный -> матричный вид. Зачем нужно векторное дифференцирование (на доске).\n",
        "\n",
        "2. Учимся считать производные по вектору (на доске).\n",
        "\n",
        "3. Пишем градиентный спуск в векторном виде (код ниже).\n",
        "\n",
        "4. Разбираемся с вариациями градиентного спуска (презентация)."
      ],
      "metadata": {
        "id": "h1CTR1BE3NrW"
      }
    },
    {
      "cell_type": "markdown",
      "source": [
        "Сгенерируем выборку для задачи регрессии и визуализируем данные"
      ],
      "metadata": {
        "id": "Tb-5iUrybT-m"
      }
    },
    {
      "cell_type": "code",
      "source": [
        "import random\n",
        "import matplotlib.pyplot as plt\n",
        "import numpy as np\n",
        "%matplotlib inline\n",
        "\n",
        "X = np.linspace(-10,10,100)\n",
        "\n",
        "print(X.shape)\n",
        "\n",
        "y = X * (np.random.random_sample(len(X)) + 0.5)\n",
        "X = X.reshape(len(X), 1)\n",
        "\n",
        "print(X.shape)\n",
        "\n",
        "plt.scatter(X, y)"
      ],
      "metadata": {
        "colab": {
          "base_uri": "https://localhost:8080/",
          "height": 319
        },
        "id": "e6hYQKiiGpFq",
        "outputId": "a5d2d2fc-4b58-42aa-e660-67631650f807"
      },
      "execution_count": 4,
      "outputs": [
        {
          "output_type": "stream",
          "name": "stdout",
          "text": [
            "(100,)\n",
            "(100, 1)\n"
          ]
        },
        {
          "output_type": "execute_result",
          "data": {
            "text/plain": [
              "<matplotlib.collections.PathCollection at 0x7f07891b6150>"
            ]
          },
          "metadata": {},
          "execution_count": 4
        },
        {
          "output_type": "display_data",
          "data": {
            "text/plain": [
              "<Figure size 432x288 with 1 Axes>"
            ],
            "image/png": "[encoded data removed]"
          },
          "metadata": {
            "needs_background": "light"
          }
        }
      ]
    },
    {
      "cell_type": "markdown",
      "source": [
        "Реализуем метод градиентного спуска для обучения линейной регрессии."
      ],
      "metadata": {
        "id": "1YJ9cqoYG-N3"
      }
    },
    {
      "cell_type": "markdown",
      "source": [
        "Сначала напишем функцию для вычисления среднеквадратичной ошибки\n",
        "\n",
        "$MSE = \\frac{1}{m}||Xw - y||^2_2$.\n",
        "\n",
        "Здесь квадратичная ошибка записана в матричном виде, т.е. $X$ - матрица объект-признак, $w$ - вектор весов модели. \n",
        "*  $Xw$ - вектор предсказания модели\n",
        "*  $y$ - вектор правильных ответов,\n",
        "и квадратичная ошибка - это квадрат нормы разности вектора предсказания и вектора правильных ответов.\n",
        "\n",
        "Вычислить норму вектора в python можно разными способами. Здесь мы  воспользуемся готовой функцией из библиотеку numpy - numpy.linalg.norm."
      ],
      "metadata": {
        "id": "uqXcS5A5bLfX"
      }
    },
    {
      "cell_type": "code",
      "source": [
        "import numpy as np\n",
        "\n",
        "def compute_cost(X, y, theta):\n",
        "    m = len(y)\n",
        "\n",
        "    cost = (1./m) * (np.linalg.norm(X @ theta - y) ** 2)\n",
        "    return cost"
      ],
      "metadata": {
        "id": "YEQuDFkiHG4f"
      },
      "execution_count": 5,
      "outputs": []
    },
    {
      "cell_type": "markdown",
      "source": [
        "Реализуем стохастический градиентный спуск по формуле\n",
        "\n",
        "$$w_{new} = w_{prev} - \\nabla_w Q(w_{prev})$$"
      ],
      "metadata": {
        "id": "Cj9DrXzZbOLi"
      }
    },
    {
      "cell_type": "markdown",
      "source": [
        "Вычислим градиент MSE:\n",
        "$$\\nabla_w Q(w)=X^T(Xw-y).$$"
      ],
      "metadata": {
        "id": "nkcALpyjdIAT"
      }
    },
    {
      "cell_type": "markdown",
      "source": [
        "Итак, реализуем метод стохастического градиентного спуска:\n",
        "\n",
        "*  первым шагом добавим к матрице $X$ единичный столбец - это константный признак, равный 1 на всех объектах. Он нужен, чтобы записать предсказание линейной регрессии в виде скалярного произведения и тем самым избавиться от знака суммы:\n",
        "$a(x)=w_0+w_1x_1+...+w_dx_d=w_1\\cdot 1+w_1x_1+...w_dx_d=(w,x)$\n",
        "\n",
        "В python скалярное произведение можно записать так: $w@x$\n",
        "\n",
        "*  затем инициализируем случайным образом вектор весов params\n",
        "\n",
        "*  зададим пустой массив cost_track, в который будем записывать ошибку на каждой итерации\n",
        "\n",
        "*  наконец, в цикле по количеству эпох (итераций) будем обновлять веса по формуле градиентного спуска"
      ],
      "metadata": {
        "id": "2jus26KKsKTz"
      }
    },
    {
      "cell_type": "code",
      "execution_count": 12,
      "metadata": {
        "id": "o-2MOdaRGlbf"
      },
      "outputs": [],
      "source": [
        "def stochastic_gradient_descent(X, y, learning_rate, iterations):\n",
        "\n",
        "    X = np.hstack((np.ones((X.shape[0], 1)), X))\n",
        "    params = np.random.rand(X.shape[1])\n",
        "\n",
        "    m = X.shape[0]\n",
        "\n",
        "    cost_track = np.zeros((iterations,1))\n",
        "\n",
        "    for i in range(iterations):\n",
        "        params = params - 2./m * learning_rate * (X.T @ ((X @ params) - y))\n",
        "        cost_track[i] = compute_cost(X, y, params)\n",
        "\n",
        "    return cost_track, params"
      ]
    },
    {
      "cell_type": "markdown",
      "source": [
        "Создадим функцию для получения предсказания модели"
      ],
      "metadata": {
        "id": "R__qZ_ESbQ98"
      }
    },
    {
      "cell_type": "code",
      "source": [
        "def predict(X, params):\n",
        "    X = np.hstack((np.ones((X.shape[0], 1)), X))\n",
        "    return X @ params"
      ],
      "metadata": {
        "id": "REpiCGpGaVO6"
      },
      "execution_count": 13,
      "outputs": []
    },
    {
      "cell_type": "markdown",
      "source": [
        "Применим градиентный спуск"
      ],
      "metadata": {
        "id": "TUq1AnqNg8ge"
      }
    },
    {
      "cell_type": "code",
      "source": [
        "track, weights = stochastic_gradient_descent(X, y, 0.01, 100)"
      ],
      "metadata": {
        "id": "HLtvqv9yg8uX"
      },
      "execution_count": 14,
      "outputs": []
    },
    {
      "cell_type": "code",
      "source": [
        "plt.plot(track)"
      ],
      "metadata": {
        "colab": {
          "base_uri": "https://localhost:8080/",
          "height": 283
        },
        "id": "9NBzqhPw917x",
        "outputId": "80f34b50-e286-4b0c-ee42-a293f24bf26c"
      },
      "execution_count": 15,
      "outputs": [
        {
          "output_type": "execute_result",
          "data": {
            "text/plain": [
              "[<matplotlib.lines.Line2D at 0x7f0788170510>]"
            ]
          },
          "metadata": {},
          "execution_count": 15
        },
        {
          "output_type": "display_data",
          "data": {
            "text/plain": [
              "<Figure size 432x288 with 1 Axes>"
            ],
            "image/png": "[encoded data removed]"
          },
          "metadata": {
            "needs_background": "light"
          }
        }
      ]
    },
    {
      "cell_type": "markdown",
      "source": [
        "Сделаем предсказание"
      ],
      "metadata": {
        "id": "yd0oKy44hInR"
      }
    },
    {
      "cell_type": "code",
      "source": [
        "pred = predict(X, weights)"
      ],
      "metadata": {
        "id": "y47jeNeehIzk"
      },
      "execution_count": 16,
      "outputs": []
    },
    {
      "cell_type": "markdown",
      "source": [
        "Добавим к графику полученную регрессионную прямую"
      ],
      "metadata": {
        "id": "6piLghRXbge2"
      }
    },
    {
      "cell_type": "code",
      "source": [
        "plt.scatter(X, y)\n",
        "plt.plot(X, pred, '-', c = 'r')"
      ],
      "metadata": {
        "colab": {
          "base_uri": "https://localhost:8080/",
          "height": 283
        },
        "id": "5WGJ50FdWOy2",
        "outputId": "4e52e498-ca6c-4604-9a00-d6560dd29f72"
      },
      "execution_count": 17,
      "outputs": [
        {
          "output_type": "execute_result",
          "data": {
            "text/plain": [
              "[<matplotlib.lines.Line2D at 0x7f07809dc0d0>]"
            ]
          },
          "metadata": {},
          "execution_count": 17
        },
        {
          "output_type": "display_data",
          "data": {
            "text/plain": [
              "<Figure size 432x288 with 1 Axes>"
            ],
            "image/png": "[encoded data removed]"
          },
          "metadata": {
            "needs_background": "light"
          }
        }
      ]
    }
  ]
}